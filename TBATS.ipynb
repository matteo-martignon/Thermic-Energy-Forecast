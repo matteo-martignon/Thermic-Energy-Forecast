{
 "cells": [
  {
   "cell_type": "code",
   "execution_count": 1,
   "metadata": {},
   "outputs": [],
   "source": [
    "from tbats import TBATS, BATS"
   ]
  },
  {
   "cell_type": "code",
   "execution_count": 2,
   "metadata": {},
   "outputs": [],
   "source": [
    "from utils import get_data\n",
    "from preprocessing import select_df_columns, df_interpolate_and_dropna\n",
    "\n",
    "from sklearn.preprocessing import StandardScaler\n",
    "ssc = StandardScaler()"
   ]
  },
  {
   "cell_type": "code",
   "execution_count": 3,
   "metadata": {},
   "outputs": [
    {
     "name": "stdout",
     "output_type": "stream",
     "text": [
      "Wall time: 30.6 s\n"
     ]
    },
    {
     "name": "stderr",
     "output_type": "stream",
     "text": [
      "C:\\Users\\matte\\Documents\\TAG\\ProjectWork\\utils.py:112: FutureWarning: Value based partial slicing on non-monotonic DatetimeIndexes with non-existing keys is deprecated and will raise a KeyError in a future Version.\n",
      "  df_temp = df_temp.set_index(\"datetime\")[[\"Temperatura\"]].loc[\"2014\":].resample('H').last()\n"
     ]
    }
   ],
   "source": [
    "%%time\n",
    "df , df_raw = get_data('./data')"
   ]
  },
  {
   "cell_type": "code",
   "execution_count": null,
   "metadata": {},
   "outputs": [],
   "source": [
    "del df_raw"
   ]
  },
  {
   "cell_type": "code",
   "execution_count": 4,
   "metadata": {},
   "outputs": [],
   "source": [
    "df_prep = df.pipe(select_df_columns, [\"ET_rete (potenza_termica_oraria)\"])\\\n",
    "    .pipe(df_interpolate_and_dropna)"
   ]
  },
  {
   "cell_type": "code",
   "execution_count": null,
   "metadata": {},
   "outputs": [],
   "source": [
    "del df"
   ]
  },
  {
   "cell_type": "code",
   "execution_count": 5,
   "metadata": {},
   "outputs": [],
   "source": [
    "df_train = df_prep[[\"ET_rete (potenza_termica_oraria)\"]][:\"2019\"]\n",
    "df_test = df_prep[[\"ET_rete (potenza_termica_oraria)\"]][\"2020\":]\n",
    "df_train[\"ET_rete (potenza_termica_oraria)\"] = ssc.fit_transform(df_train)\n",
    "df_test[\"ET_rete (potenza_termica_oraria)\"] = ssc.transform(df_test.values.reshape(-1,1))"
   ]
  },
  {
   "cell_type": "code",
   "execution_count": 6,
   "metadata": {},
   "outputs": [
    {
     "name": "stdout",
     "output_type": "stream",
     "text": [
      "Wall time: 0 ns\n"
     ]
    }
   ],
   "source": [
    "%%time\n",
    "estimator = TBATS(seasonal_periods=(24, 24*7, 24*7*4, 24*7*52))"
   ]
  },
  {
   "cell_type": "code",
   "execution_count": null,
   "metadata": {},
   "outputs": [],
   "source": [
    "%%time\n",
    "model = estimator.fit(df_train)"
   ]
  },
  {
   "cell_type": "code",
   "execution_count": null,
   "metadata": {},
   "outputs": [],
   "source": []
  }
 ],
 "metadata": {
  "kernelspec": {
   "display_name": "Python 3",
   "language": "python",
   "name": "python3"
  },
  "language_info": {
   "codemirror_mode": {
    "name": "ipython",
    "version": 3
   },
   "file_extension": ".py",
   "mimetype": "text/x-python",
   "name": "python",
   "nbconvert_exporter": "python",
   "pygments_lexer": "ipython3",
   "version": "3.8.5"
  }
 },
 "nbformat": 4,
 "nbformat_minor": 4
}
