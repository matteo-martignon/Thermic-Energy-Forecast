{
 "cells": [
  {
   "cell_type": "code",
   "execution_count": 1,
   "metadata": {},
   "outputs": [],
   "source": [
    "\n",
    "import pandas as pd\n",
    "\n",
    "from models import evaluate_model, stan_init,\\\n",
    "load_prophet_model, load_scaler\\\n",
    ",get_model_metrics, model_add_observations, get_prophet_predictions, X_train_add_observations, get_y_test_new\n",
    "\n",
    "from plots import plot_forecast_measure\n",
    "from utils import get_data\n",
    "from preprocessing import select_df_columns, df_interpolate_and_dropna\n",
    "\n",
    "from warnings import filterwarnings\n",
    "filterwarnings(\"ignore\")"
   ]
  },
  {
   "cell_type": "code",
   "execution_count": 2,
   "metadata": {},
   "outputs": [],
   "source": [
    "sc = load_scaler('models/20210605153739_prophet_std_scaler.bin')"
   ]
  },
  {
   "cell_type": "code",
   "execution_count": 3,
   "metadata": {},
   "outputs": [
    {
     "name": "stderr",
     "output_type": "stream",
     "text": [
      "INFO:numexpr.utils:NumExpr defaulting to 8 threads.\n"
     ]
    }
   ],
   "source": [
    "model = load_prophet_model('models/20210605153739_prophet1.json')"
   ]
  },
  {
   "cell_type": "code",
   "execution_count": 4,
   "metadata": {},
   "outputs": [
    {
     "name": "stdout",
     "output_type": "stream",
     "text": [
      "Wall time: 29.4 s\n"
     ]
    }
   ],
   "source": [
    "%%time\n",
    "df , df_raw = get_data('./data')"
   ]
  },
  {
   "cell_type": "code",
   "execution_count": 5,
   "metadata": {},
   "outputs": [
    {
     "name": "stdout",
     "output_type": "stream",
     "text": [
      "Wall time: 15 ms\n"
     ]
    }
   ],
   "source": [
    "%%time\n",
    "df_prep = df.pipe(select_df_columns, [\"ET_rete (potenza_termica_oraria)\"])\\\n",
    "    .pipe(df_interpolate_and_dropna)"
   ]
  },
  {
   "cell_type": "code",
   "execution_count": 6,
   "metadata": {},
   "outputs": [],
   "source": [
    "df_test = df_prep.loc[\"2020\":]"
   ]
  },
  {
   "cell_type": "code",
   "execution_count": 7,
   "metadata": {},
   "outputs": [],
   "source": [
    "df_train = df_prep.loc[:\"2019\"]"
   ]
  },
  {
   "cell_type": "code",
   "execution_count": 10,
   "metadata": {},
   "outputs": [
    {
     "name": "stdout",
     "output_type": "stream",
     "text": [
      "1\n",
      "39.92921829623598 14.448378505782303\n",
      "2\n",
      "100.44632002690425 157.62769644511567\n",
      "3\n",
      "189.19219846804467 364.3171262073223\n",
      "4\n",
      "188.99676375201486 370.66962539574575\n",
      "5\n",
      "161.70362991570497 231.98434801346278\n",
      "6\n",
      "125.01809332004298 120.0920500677862\n",
      "7\n",
      "88.70157667327044 64.66055303275084\n",
      "8\n",
      "52.24343925688754 31.373693510642987\n",
      "9\n",
      "27.148394292922585 14.756225026641124\n",
      "10\n",
      "66.32638752825109 21.081639040362038\n",
      "11\n",
      "109.26174709848085 30.605733070892477\n",
      "12\n",
      "96.50896451893989 29.77519770478883\n",
      "13\n",
      "80.0106120688642 28.60123571993215\n",
      "14\n",
      "71.85334306078778 27.5326638584024\n",
      "15\n",
      "62.40528631344055 27.013338662186044\n",
      "16\n",
      "50.87905258895347 26.21650503930762\n",
      "17\n",
      "56.53447477118215 25.57235914845521\n",
      "18\n",
      "75.0664725026834 26.685774791066745\n",
      "19\n",
      "79.25282381449531 26.712900147763914\n",
      "20\n",
      "71.24668606140035 24.990165109639616\n",
      "21\n",
      "67.00144688587856 24.474702543804693\n",
      "22\n",
      "57.501612316395665 24.785576405900674\n",
      "23\n",
      "36.40048012848394 22.137584095452976\n",
      "24\n",
      "31.63150763816218 19.900269580211365\n",
      "25\n",
      "40.31088115433209 21.430526469810314\n",
      "26\n",
      "39.132036127271654 22.230537074261182\n",
      "27\n",
      "39.43304451125508 22.179248622745412\n",
      "28\n",
      "40.890047666135196 23.47174197595804\n",
      "29\n",
      "52.64887660737265 25.500650460301173\n",
      "30\n",
      "48.374087474481655 25.463635074272112\n",
      "31\n",
      "36.35078228650252 24.508999518035264\n",
      "32\n",
      "39.97389778346253 25.708585218377905\n",
      "33\n",
      "115.26522164380691 174.94508189635246\n",
      "34\n",
      "200.9590122852404 420.077228635155\n",
      "35\n",
      "200.03717446132768 457.44984299103004\n",
      "36\n",
      "174.2375755175067 306.4039608443605\n",
      "37\n",
      "140.63805150819363 171.4001451390358\n",
      "38\n",
      "114.353380229864 107.15906906455392\n",
      "39\n",
      "87.78538212318864 67.02321963950274\n",
      "40\n",
      "59.38310016643843 38.59465872216366\n",
      "41\n",
      "50.976576185890174 26.193240557181657\n",
      "42\n",
      "48.67007914254325 25.29973346677712\n",
      "43\n",
      "34.25650633889021 22.415962268506252\n",
      "44\n",
      "29.73712104120101 20.399510615670373\n",
      "45\n",
      "34.77192910424605 21.755511889911855\n",
      "46\n",
      "32.12795661285384 23.63828103328693\n",
      "47\n",
      "25.969752261927415 22.493044748895258\n",
      "48\n",
      "30.698950893076628 20.502526532258162\n",
      "49\n",
      "35.56775114526327 19.76928621557216\n",
      "50\n",
      "25.637330316733472 17.63099603966462\n",
      "51\n",
      "11.457796606384685 16.05729154520771\n",
      "52\n",
      "9.986897078466455 17.56162657330079\n",
      "53\n",
      "15.344142458590376 21.57065211551309\n",
      "54\n",
      "18.149393171561634 23.836930818100814\n",
      "55\n",
      "24.09956572358084 20.977303471765133\n",
      "56\n",
      "26.57610201091643 20.722429214216028\n",
      "57\n",
      "24.83382426292859 22.200417181973847\n",
      "58\n",
      "66.67128888471831 27.294153741869266\n",
      "59\n",
      "93.87898116233441 31.067640823447018\n",
      "60\n",
      "68.28126241243864 28.20407836009482\n",
      "61\n",
      "43.716382302718294 26.015544125199675\n",
      "62\n",
      "98.51706867108494 177.93814323091232\n",
      "63\n",
      "165.29844586324432 353.999499387991\n",
      "64\n",
      "158.773656029075 347.07097555573563\n",
      "65\n",
      "143.85598756607217 271.5072489502207\n",
      "66\n",
      "129.99003924047884 200.47009399481368\n",
      "67\n",
      "116.31479543303698 151.7567323794161\n",
      "68\n",
      "98.83550470078701 111.81515101424948\n",
      "69\n",
      "81.4575012482547 81.3836787177842\n",
      "70\n",
      "42.38814579173921 45.490229817905735\n",
      "71\n",
      "19.74672639863871 24.78905757642767\n",
      "72\n",
      "28.106868686981652 24.57190007405784\n",
      "73\n",
      "35.08872862187289 23.266033015633308\n",
      "74\n",
      "35.514112761911825 22.640005155584625\n",
      "75\n",
      "21.33300838977033 21.424414374151382\n",
      "76\n",
      "14.071901899942134 22.140670673473952\n",
      "77\n",
      "13.606280752694872 24.440267797611003\n",
      "78\n",
      "13.98257550605018 24.24219716121381\n",
      "79\n",
      "14.05873395870035 21.903158631947043\n",
      "80\n",
      "44.368690400564866 27.303338156039846\n",
      "81\n",
      "74.01426001552191 31.749311001804376\n",
      "82\n",
      "78.340362977221 32.429062720956836\n",
      "83\n",
      "96.57544384303996 36.65858253048392\n",
      "84\n",
      "84.49086176678587 35.04674900578697\n",
      "85\n",
      "39.7172609599402 26.297034728751324\n",
      "86\n",
      "15.232816337798807 21.502001184241102\n",
      "87\n",
      "14.916966953339573 22.362462045397013\n",
      "88\n",
      "41.145693217310324 25.741503647813175\n",
      "89\n",
      "105.4915305814554 38.08242085524729\n",
      "90\n",
      "133.03428995822125 43.000712846442504\n",
      "91\n",
      "109.6207484877151 38.44236333791214\n",
      "92\n",
      "62.74208436550155 30.190899558087924\n",
      "93\n",
      "61.078267886333755 105.44382000475055\n",
      "94\n",
      "102.26914782444585 216.3748209745005\n",
      "95\n",
      "103.52124388383966 223.37974845727396\n",
      "96\n",
      "94.36459858755325 183.28911003874353\n",
      "97\n",
      "84.69195475065241 150.43076662419307\n",
      "98\n",
      "74.26176048864066 121.52191499103499\n",
      "99\n",
      "61.48237543391434 93.28291827952448\n",
      "100\n",
      "48.866868060819776 69.14752112222166\n",
      "101\n",
      "39.2716125091338 53.23653385333101\n",
      "102\n"
     ]
    },
    {
     "ename": "KeyboardInterrupt",
     "evalue": "",
     "output_type": "error",
     "traceback": [
      "\u001b[1;31m---------------------------------------------------------------------------\u001b[0m",
      "\u001b[1;31mKeyboardInterrupt\u001b[0m                         Traceback (most recent call last)",
      "\u001b[1;32m<timed exec>\u001b[0m in \u001b[0;36m<module>\u001b[1;34m\u001b[0m\n",
      "\u001b[1;32m~\\Documents\\TAG\\ProjectWork\\models.py\u001b[0m in \u001b[0;36mmodel_add_observations\u001b[1;34m(model, X_train)\u001b[0m\n\u001b[0;32m    178\u001b[0m     \u001b[0mdf_train_prophet\u001b[0m \u001b[1;33m=\u001b[0m \u001b[0mX_train\u001b[0m\u001b[1;33m.\u001b[0m\u001b[0mreset_index\u001b[0m\u001b[1;33m(\u001b[0m\u001b[1;33m)\u001b[0m\u001b[1;33m\u001b[0m\u001b[1;33m\u001b[0m\u001b[0m\n\u001b[0;32m    179\u001b[0m     \u001b[0mdf_train_prophet\u001b[0m\u001b[1;33m.\u001b[0m\u001b[0mcolumns\u001b[0m \u001b[1;33m=\u001b[0m \u001b[1;33m[\u001b[0m\u001b[1;34m'ds'\u001b[0m\u001b[1;33m,\u001b[0m \u001b[1;34m'y'\u001b[0m\u001b[1;33m]\u001b[0m\u001b[1;33m\u001b[0m\u001b[1;33m\u001b[0m\u001b[0m\n\u001b[1;32m--> 180\u001b[1;33m     \u001b[0mnew_model\u001b[0m \u001b[1;33m=\u001b[0m \u001b[0mProphet\u001b[0m\u001b[1;33m(\u001b[0m\u001b[1;33m)\u001b[0m\u001b[1;33m.\u001b[0m\u001b[0mfit\u001b[0m\u001b[1;33m(\u001b[0m\u001b[0mdf_train_prophet\u001b[0m\u001b[1;33m,\u001b[0m \u001b[0minit\u001b[0m\u001b[1;33m=\u001b[0m\u001b[0mstan_init\u001b[0m\u001b[1;33m(\u001b[0m\u001b[0mmodel\u001b[0m\u001b[1;33m)\u001b[0m\u001b[1;33m)\u001b[0m\u001b[1;33m\u001b[0m\u001b[1;33m\u001b[0m\u001b[0m\n\u001b[0m\u001b[0;32m    181\u001b[0m     \u001b[1;32mreturn\u001b[0m \u001b[0mnew_model\u001b[0m\u001b[1;33m\u001b[0m\u001b[1;33m\u001b[0m\u001b[0m\n\u001b[0;32m    182\u001b[0m \u001b[1;33m\u001b[0m\u001b[0m\n",
      "\u001b[1;32m~\\anaconda3\\lib\\site-packages\\fbprophet\\forecaster.py\u001b[0m in \u001b[0;36mfit\u001b[1;34m(self, df, **kwargs)\u001b[0m\n\u001b[0;32m   1164\u001b[0m             \u001b[0mself\u001b[0m\u001b[1;33m.\u001b[0m\u001b[0mparams\u001b[0m \u001b[1;33m=\u001b[0m \u001b[0mself\u001b[0m\u001b[1;33m.\u001b[0m\u001b[0mstan_backend\u001b[0m\u001b[1;33m.\u001b[0m\u001b[0msampling\u001b[0m\u001b[1;33m(\u001b[0m\u001b[0mstan_init\u001b[0m\u001b[1;33m,\u001b[0m \u001b[0mdat\u001b[0m\u001b[1;33m,\u001b[0m \u001b[0mself\u001b[0m\u001b[1;33m.\u001b[0m\u001b[0mmcmc_samples\u001b[0m\u001b[1;33m,\u001b[0m \u001b[1;33m**\u001b[0m\u001b[0mkwargs\u001b[0m\u001b[1;33m)\u001b[0m\u001b[1;33m\u001b[0m\u001b[1;33m\u001b[0m\u001b[0m\n\u001b[0;32m   1165\u001b[0m         \u001b[1;32melse\u001b[0m\u001b[1;33m:\u001b[0m\u001b[1;33m\u001b[0m\u001b[1;33m\u001b[0m\u001b[0m\n\u001b[1;32m-> 1166\u001b[1;33m             \u001b[0mself\u001b[0m\u001b[1;33m.\u001b[0m\u001b[0mparams\u001b[0m \u001b[1;33m=\u001b[0m \u001b[0mself\u001b[0m\u001b[1;33m.\u001b[0m\u001b[0mstan_backend\u001b[0m\u001b[1;33m.\u001b[0m\u001b[0mfit\u001b[0m\u001b[1;33m(\u001b[0m\u001b[0mstan_init\u001b[0m\u001b[1;33m,\u001b[0m \u001b[0mdat\u001b[0m\u001b[1;33m,\u001b[0m \u001b[1;33m**\u001b[0m\u001b[0mkwargs\u001b[0m\u001b[1;33m)\u001b[0m\u001b[1;33m\u001b[0m\u001b[1;33m\u001b[0m\u001b[0m\n\u001b[0m\u001b[0;32m   1167\u001b[0m \u001b[1;33m\u001b[0m\u001b[0m\n\u001b[0;32m   1168\u001b[0m         \u001b[1;31m# If no changepoints were requested, replace delta with 0s\u001b[0m\u001b[1;33m\u001b[0m\u001b[1;33m\u001b[0m\u001b[1;33m\u001b[0m\u001b[0m\n",
      "\u001b[1;32m~\\anaconda3\\lib\\site-packages\\fbprophet\\models.py\u001b[0m in \u001b[0;36mfit\u001b[1;34m(self, stan_init, stan_data, **kwargs)\u001b[0m\n\u001b[0;32m    243\u001b[0m         \u001b[0margs\u001b[0m\u001b[1;33m.\u001b[0m\u001b[0mupdate\u001b[0m\u001b[1;33m(\u001b[0m\u001b[0mkwargs\u001b[0m\u001b[1;33m)\u001b[0m\u001b[1;33m\u001b[0m\u001b[1;33m\u001b[0m\u001b[0m\n\u001b[0;32m    244\u001b[0m         \u001b[1;32mtry\u001b[0m\u001b[1;33m:\u001b[0m\u001b[1;33m\u001b[0m\u001b[1;33m\u001b[0m\u001b[0m\n\u001b[1;32m--> 245\u001b[1;33m             \u001b[0mself\u001b[0m\u001b[1;33m.\u001b[0m\u001b[0mstan_fit\u001b[0m \u001b[1;33m=\u001b[0m \u001b[0mself\u001b[0m\u001b[1;33m.\u001b[0m\u001b[0mmodel\u001b[0m\u001b[1;33m.\u001b[0m\u001b[0moptimizing\u001b[0m\u001b[1;33m(\u001b[0m\u001b[1;33m**\u001b[0m\u001b[0margs\u001b[0m\u001b[1;33m)\u001b[0m\u001b[1;33m\u001b[0m\u001b[1;33m\u001b[0m\u001b[0m\n\u001b[0m\u001b[0;32m    246\u001b[0m         \u001b[1;32mexcept\u001b[0m \u001b[0mRuntimeError\u001b[0m\u001b[1;33m:\u001b[0m\u001b[1;33m\u001b[0m\u001b[1;33m\u001b[0m\u001b[0m\n\u001b[0;32m    247\u001b[0m             \u001b[1;31m# Fall back on Newton\u001b[0m\u001b[1;33m\u001b[0m\u001b[1;33m\u001b[0m\u001b[1;33m\u001b[0m\u001b[0m\n",
      "\u001b[1;32m~\\anaconda3\\lib\\site-packages\\pystan\\model.py\u001b[0m in \u001b[0;36moptimizing\u001b[1;34m(self, data, seed, init, sample_file, algorithm, verbose, as_vector, **kwargs)\u001b[0m\n\u001b[0;32m    579\u001b[0m         \u001b[0mstan_args\u001b[0m \u001b[1;33m=\u001b[0m \u001b[0mpystan\u001b[0m\u001b[1;33m.\u001b[0m\u001b[0mmisc\u001b[0m\u001b[1;33m.\u001b[0m\u001b[0m_get_valid_stan_args\u001b[0m\u001b[1;33m(\u001b[0m\u001b[0mstan_args\u001b[0m\u001b[1;33m)\u001b[0m\u001b[1;33m\u001b[0m\u001b[1;33m\u001b[0m\u001b[0m\n\u001b[0;32m    580\u001b[0m \u001b[1;33m\u001b[0m\u001b[0m\n\u001b[1;32m--> 581\u001b[1;33m         \u001b[0mret\u001b[0m\u001b[1;33m,\u001b[0m \u001b[0msample\u001b[0m \u001b[1;33m=\u001b[0m \u001b[0mfit\u001b[0m\u001b[1;33m.\u001b[0m\u001b[0m_call_sampler\u001b[0m\u001b[1;33m(\u001b[0m\u001b[0mstan_args\u001b[0m\u001b[1;33m)\u001b[0m\u001b[1;33m\u001b[0m\u001b[1;33m\u001b[0m\u001b[0m\n\u001b[0m\u001b[0;32m    582\u001b[0m         \u001b[0mpars\u001b[0m \u001b[1;33m=\u001b[0m \u001b[0mpystan\u001b[0m\u001b[1;33m.\u001b[0m\u001b[0mmisc\u001b[0m\u001b[1;33m.\u001b[0m\u001b[0m_par_vector2dict\u001b[0m\u001b[1;33m(\u001b[0m\u001b[0msample\u001b[0m\u001b[1;33m[\u001b[0m\u001b[1;34m'par'\u001b[0m\u001b[1;33m]\u001b[0m\u001b[1;33m,\u001b[0m \u001b[0mm_pars\u001b[0m\u001b[1;33m,\u001b[0m \u001b[0mp_dims\u001b[0m\u001b[1;33m)\u001b[0m\u001b[1;33m\u001b[0m\u001b[1;33m\u001b[0m\u001b[0m\n\u001b[0;32m    583\u001b[0m         \u001b[1;32mif\u001b[0m \u001b[1;32mnot\u001b[0m \u001b[0mas_vector\u001b[0m\u001b[1;33m:\u001b[0m\u001b[1;33m\u001b[0m\u001b[1;33m\u001b[0m\u001b[0m\n",
      "\u001b[1;32mstanfit4anon_model_f5236004a3fd5b8429270d00efcc0cf9_1593596232405514322.pyx\u001b[0m in \u001b[0;36mstanfit4anon_model_f5236004a3fd5b8429270d00efcc0cf9_1593596232405514322.StanFit4Model._call_sampler\u001b[1;34m()\u001b[0m\n",
      "\u001b[1;32mstanfit4anon_model_f5236004a3fd5b8429270d00efcc0cf9_1593596232405514322.pyx\u001b[0m in \u001b[0;36mstanfit4anon_model_f5236004a3fd5b8429270d00efcc0cf9_1593596232405514322._call_sampler\u001b[1;34m()\u001b[0m\n",
      "\u001b[1;32mstanfit4anon_model_f5236004a3fd5b8429270d00efcc0cf9_1593596232405514322.pyx\u001b[0m in \u001b[0;36mstanfit4anon_model_f5236004a3fd5b8429270d00efcc0cf9_1593596232405514322._dict_from_stanargs\u001b[1;34m()\u001b[0m\n",
      "\u001b[1;32m~\\anaconda3\\lib\\enum.py\u001b[0m in \u001b[0;36m__call__\u001b[1;34m(cls, value, names, module, qualname, type, start)\u001b[0m\n\u001b[0;32m    307\u001b[0m         \"\"\"\n\u001b[0;32m    308\u001b[0m         \u001b[1;32mif\u001b[0m \u001b[0mnames\u001b[0m \u001b[1;32mis\u001b[0m \u001b[1;32mNone\u001b[0m\u001b[1;33m:\u001b[0m  \u001b[1;31m# simple value lookup\u001b[0m\u001b[1;33m\u001b[0m\u001b[1;33m\u001b[0m\u001b[0m\n\u001b[1;32m--> 309\u001b[1;33m             \u001b[1;32mreturn\u001b[0m \u001b[0mcls\u001b[0m\u001b[1;33m.\u001b[0m\u001b[0m__new__\u001b[0m\u001b[1;33m(\u001b[0m\u001b[0mcls\u001b[0m\u001b[1;33m,\u001b[0m \u001b[0mvalue\u001b[0m\u001b[1;33m)\u001b[0m\u001b[1;33m\u001b[0m\u001b[1;33m\u001b[0m\u001b[0m\n\u001b[0m\u001b[0;32m    310\u001b[0m         \u001b[1;31m# otherwise, functional API: we're creating a new Enum type\u001b[0m\u001b[1;33m\u001b[0m\u001b[1;33m\u001b[0m\u001b[1;33m\u001b[0m\u001b[0m\n\u001b[0;32m    311\u001b[0m         \u001b[1;32mreturn\u001b[0m \u001b[0mcls\u001b[0m\u001b[1;33m.\u001b[0m\u001b[0m_create_\u001b[0m\u001b[1;33m(\u001b[0m\u001b[0mvalue\u001b[0m\u001b[1;33m,\u001b[0m \u001b[0mnames\u001b[0m\u001b[1;33m,\u001b[0m \u001b[0mmodule\u001b[0m\u001b[1;33m=\u001b[0m\u001b[0mmodule\u001b[0m\u001b[1;33m,\u001b[0m \u001b[0mqualname\u001b[0m\u001b[1;33m=\u001b[0m\u001b[0mqualname\u001b[0m\u001b[1;33m,\u001b[0m \u001b[0mtype\u001b[0m\u001b[1;33m=\u001b[0m\u001b[0mtype\u001b[0m\u001b[1;33m,\u001b[0m \u001b[0mstart\u001b[0m\u001b[1;33m=\u001b[0m\u001b[0mstart\u001b[0m\u001b[1;33m)\u001b[0m\u001b[1;33m\u001b[0m\u001b[1;33m\u001b[0m\u001b[0m\n",
      "\u001b[1;31mKeyboardInterrupt\u001b[0m: "
     ]
    }
   ],
   "source": [
    "%%time\n",
    "window=48\n",
    "step_forward = 24\n",
    "d = {}\n",
    "for i in range(1, int(df_test.shape[0]/window)+2):\n",
    "    print(i)\n",
    "    if i==1:\n",
    "        end_window = i*window\n",
    "        y_true = df_test[\"ET_rete (potenza_termica_oraria)\"].iloc[:end_window].values\n",
    "        y_pred = get_prophet_predictions(model, sc, periods=window)\n",
    "        mae, mape = get_model_metrics(y_true, y_pred)\n",
    "        d[i] = {\"mae\": mae, \"mape\": mape}\n",
    "        print(mae, mape)\n",
    "    elif i==2:\n",
    "        end_window+=step_forward\n",
    "        X_train_new = X_train_add_observations(df_train, df_test[[\"ET_rete (potenza_termica_oraria)\"]].iloc[:end_window], scaler=sc)\n",
    "        new_model = model_add_observations(model, X_train_new)\n",
    "        y_pred_new = get_prophet_predictions(new_model, sc, periods=window)\n",
    "        y_true_new = get_y_test_new(X_train_new, df_test, periods=window)\n",
    "        mae, mape = get_model_metrics(y_true_new, y_pred_new)\n",
    "        d[i] = {\"mae\": mae, \"mape\": mape}\n",
    "        print(mae, mape)\n",
    "    else:\n",
    "        end_window+=step_forward\n",
    "        X_train_new = X_train_add_observations(df_train, df_test[[\"ET_rete (potenza_termica_oraria)\"]].iloc[:end_window], scaler=sc)\n",
    "        new_model = model_add_observations(new_model, X_train_new)\n",
    "        y_pred_new = get_prophet_predictions(new_model, sc, periods=window)\n",
    "        y_true_new = get_y_test_new(X_train_new, df_test, periods=window)\n",
    "        mae, mape = get_model_metrics(y_true_new, y_pred_new)\n",
    "        d[i] = {\"mae\": mae, \"mape\": mape}\n",
    "        print(mae, mape)"
   ]
  },
  {
   "cell_type": "code",
   "execution_count": 9,
   "metadata": {},
   "outputs": [
    {
     "data": {
      "text/plain": [
       "mae     74.791522\n",
       "mape    63.184480\n",
       "dtype: float64"
      ]
     },
     "execution_count": 9,
     "metadata": {},
     "output_type": "execute_result"
    }
   ],
   "source": [
    "pd.DataFrame().from_dict(d, orient=\"index\").mean()"
   ]
  },
  {
   "cell_type": "code",
   "execution_count": null,
   "metadata": {},
   "outputs": [],
   "source": []
  },
  {
   "cell_type": "code",
   "execution_count": null,
   "metadata": {},
   "outputs": [],
   "source": []
  },
  {
   "cell_type": "code",
   "execution_count": null,
   "metadata": {},
   "outputs": [],
   "source": []
  },
  {
   "cell_type": "code",
   "execution_count": null,
   "metadata": {},
   "outputs": [],
   "source": []
  },
  {
   "cell_type": "code",
   "execution_count": null,
   "metadata": {},
   "outputs": [],
   "source": []
  },
  {
   "cell_type": "code",
   "execution_count": null,
   "metadata": {},
   "outputs": [],
   "source": []
  },
  {
   "cell_type": "code",
   "execution_count": null,
   "metadata": {},
   "outputs": [],
   "source": []
  }
 ],
 "metadata": {
  "kernelspec": {
   "display_name": "Python 3",
   "language": "python",
   "name": "python3"
  },
  "language_info": {
   "codemirror_mode": {
    "name": "ipython",
    "version": 3
   },
   "file_extension": ".py",
   "mimetype": "text/x-python",
   "name": "python",
   "nbconvert_exporter": "python",
   "pygments_lexer": "ipython3",
   "version": "3.8.5"
  }
 },
 "nbformat": 4,
 "nbformat_minor": 4
}
