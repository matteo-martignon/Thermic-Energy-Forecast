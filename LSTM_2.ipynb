{
 "cells": [
  {
   "cell_type": "code",
   "execution_count": 1,
   "metadata": {},
   "outputs": [],
   "source": [
    "import pandas as pd\n",
    "\n",
    "from utils import get_data, get_temperature_data\n",
    "from preprocessing import select_df_columns, df_interpolate_and_dropna\n",
    "from models import train_test_split, build_LSTM_model, get_Xy_generator, evaluate_model, get_model_predictions\n",
    "\n",
    "from sklearn.preprocessing import StandardScaler\n",
    "ssc = StandardScaler()\n",
    "\n",
    "from warnings import filterwarnings\n",
    "filterwarnings(\"ignore\")\n",
    "\n",
    "from datetime import datetime"
   ]
  },
  {
   "cell_type": "code",
   "execution_count": 2,
   "metadata": {},
   "outputs": [
    {
     "name": "stdout",
     "output_type": "stream",
     "text": [
      "Wall time: 30.2 s\n"
     ]
    }
   ],
   "source": [
    "%%time\n",
    "df , df_raw = get_data('./data')\n",
    "df_temp = get_temperature_data(\"./data/temperature_brescia.json\")\n",
    "df = df_temp.merge(df, how='outer', left_index=True, right_index=True)"
   ]
  },
  {
   "cell_type": "code",
   "execution_count": 3,
   "metadata": {},
   "outputs": [
    {
     "name": "stdout",
     "output_type": "stream",
     "text": [
      "Wall time: 19 ms\n"
     ]
    }
   ],
   "source": [
    "%%time\n",
    "df_prep = df.pipe(select_df_columns, [\"ET_rete (potenza_termica_oraria)\"])\\\n",
    "    .pipe(df_interpolate_and_dropna)"
   ]
  },
  {
   "cell_type": "code",
   "execution_count": 4,
   "metadata": {},
   "outputs": [],
   "source": [
    "window = 24*7"
   ]
  },
  {
   "cell_type": "code",
   "execution_count": 5,
   "metadata": {},
   "outputs": [
    {
     "name": "stdout",
     "output_type": "stream",
     "text": [
      "Epoch 1/5\n",
      "164/164 [==============================] - 75s 447ms/step - loss: 0.1839 - val_loss: 0.0291\n",
      "Epoch 2/5\n",
      "164/164 [==============================] - 72s 442ms/step - loss: 0.0265 - val_loss: 0.0225\n",
      "Epoch 3/5\n",
      "164/164 [==============================] - 74s 451ms/step - loss: 0.0223 - val_loss: 0.0174\n",
      "Epoch 4/5\n",
      "164/164 [==============================] - 72s 441ms/step - loss: 0.0163 - val_loss: 0.0143\n",
      "Epoch 5/5\n",
      "164/164 [==============================] - 71s 430ms/step - loss: 0.0140 - val_loss: 0.0151\n",
      "Wall time: 6min 19s\n"
     ]
    }
   ],
   "source": [
    "%%time\n",
    "train, test = train_test_split(df_prep, 2019)\n",
    "\n",
    "train = ssc.fit_transform(train)\n",
    "test = ssc.transform(test)\n",
    "\n",
    "X_train, y_train = get_Xy_generator(train, lenght=window)\n",
    "X_test, y_test = get_Xy_generator(test, lenght=window)\n",
    "\n",
    "model = build_LSTM_model(input_shape = window)\n",
    "model.fit(X_train, y_train, epochs=5, batch_size=256, validation_split=0.2)\n",
    "\n",
    "y_pred = model.predict(X_test)"
   ]
  },
  {
   "cell_type": "code",
   "execution_count": 6,
   "metadata": {},
   "outputs": [],
   "source": [
    "y_test = ssc.inverse_transform(y_test.reshape(-1,1))\n",
    "y_pred = ssc.inverse_transform(y_pred.reshape(-1,1))"
   ]
  },
  {
   "cell_type": "code",
   "execution_count": 7,
   "metadata": {},
   "outputs": [
    {
     "name": "stdout",
     "output_type": "stream",
     "text": [
      "mse = 82.11395390056879\n",
      "mape = 9.569713850469098\n",
      "r2_score = 0.9876969428265215\n",
      "Wall time: 2 ms\n"
     ]
    }
   ],
   "source": [
    "%%time\n",
    "evaluate_model(y_test, y_pred)"
   ]
  },
  {
   "cell_type": "code",
   "execution_count": 8,
   "metadata": {},
   "outputs": [
    {
     "name": "stdout",
     "output_type": "stream",
     "text": [
      "524/524 [==============================] - 15s 27ms/step - loss: 0.0058\n"
     ]
    },
    {
     "data": {
      "text/plain": [
       "0.005774170625954866"
      ]
     },
     "execution_count": 8,
     "metadata": {},
     "output_type": "execute_result"
    }
   ],
   "source": [
    "model.evaluate(X_test, ssc.transform(y_test.reshape(-1,1)))"
   ]
  },
  {
   "cell_type": "code",
   "execution_count": 9,
   "metadata": {},
   "outputs": [],
   "source": [
    "now = datetime.utcnow().strftime(\"%Y%m%d%H%M\")\n",
    "model.save(f'models/{now}_LSTM_7.h5')"
   ]
  },
  {
   "cell_type": "code",
   "execution_count": 10,
   "metadata": {},
   "outputs": [
    {
     "data": {
      "text/plain": [
       "array([[81.99398 ],\n",
       "       [83.25031 ],\n",
       "       [84.661514],\n",
       "       ...,\n",
       "       [48.685703],\n",
       "       [48.685703],\n",
       "       [48.685703]], dtype=float32)"
      ]
     },
     "execution_count": 10,
     "metadata": {},
     "output_type": "execute_result"
    }
   ],
   "source": [
    "y_pred"
   ]
  },
  {
   "cell_type": "code",
   "execution_count": 11,
   "metadata": {},
   "outputs": [
    {
     "data": {
      "text/plain": [
       "array([[77.70629384],\n",
       "       [79.099183  ],\n",
       "       [80.49207216],\n",
       "       ...,\n",
       "       [43.71148685],\n",
       "       [43.71148685],\n",
       "       [43.71148685]])"
      ]
     },
     "execution_count": 11,
     "metadata": {},
     "output_type": "execute_result"
    }
   ],
   "source": [
    "y_test"
   ]
  },
  {
   "cell_type": "markdown",
   "metadata": {},
   "source": [
    "#############################################################################################################"
   ]
  },
  {
   "cell_type": "code",
   "execution_count": 12,
   "metadata": {},
   "outputs": [],
   "source": [
    "import numpy as np"
   ]
  },
  {
   "cell_type": "code",
   "execution_count": 15,
   "metadata": {},
   "outputs": [
    {
     "data": {
      "text/plain": [
       "((52584, 1), (16920, 1))"
      ]
     },
     "execution_count": 15,
     "metadata": {},
     "output_type": "execute_result"
    }
   ],
   "source": [
    "train.shape, test.shape"
   ]
  },
  {
   "cell_type": "code",
   "execution_count": 16,
   "metadata": {},
   "outputs": [
    {
     "data": {
      "text/plain": [
       "16920"
      ]
     },
     "execution_count": 16,
     "metadata": {},
     "output_type": "execute_result"
    }
   ],
   "source": [
    "len(test)"
   ]
  },
  {
   "cell_type": "code",
   "execution_count": null,
   "metadata": {},
   "outputs": [],
   "source": [
    "train[-window:].reshape((1, window, 1))"
   ]
  },
  {
   "cell_type": "code",
   "execution_count": null,
   "metadata": {},
   "outputs": [],
   "source": [
    "np.append(arr=train[-24:].reshape((1, window, 1))[:, 1:, :], values=[[[model.predict(train[-window:].reshape((1, window, 1)))[0][0]]]], axis=1)"
   ]
  },
  {
   "cell_type": "code",
   "execution_count": null,
   "metadata": {},
   "outputs": [],
   "source": [
    "model.predict(train[-window:].reshape((1, window, 1)))[0][0]"
   ]
  },
  {
   "cell_type": "code",
   "execution_count": 17,
   "metadata": {},
   "outputs": [
    {
     "name": "stdout",
     "output_type": "stream",
     "text": [
      "Wall time: 11min 55s\n"
     ]
    }
   ],
   "source": [
    "%%time\n",
    "l2hat = get_model_predictions(train, test, model, window=window)"
   ]
  },
  {
   "cell_type": "code",
   "execution_count": null,
   "metadata": {},
   "outputs": [],
   "source": [
    "# l2hat_hat = []\n",
    "# for i in l2hat:\n",
    "#     l2hat_hat.append(i[0])"
   ]
  },
  {
   "cell_type": "code",
   "execution_count": 18,
   "metadata": {},
   "outputs": [],
   "source": [
    "l2hat_hat = ssc.inverse_transform(l2hat)"
   ]
  },
  {
   "cell_type": "code",
   "execution_count": 19,
   "metadata": {},
   "outputs": [
    {
     "data": {
      "text/plain": [
       "array([[212.8346221 ],\n",
       "       [214.36125175],\n",
       "       [212.2325999 ],\n",
       "       [209.98164047],\n",
       "       [234.84462518],\n",
       "       [286.89011753],\n",
       "       [400.83020762],\n",
       "       [392.74915553],\n",
       "       [378.00535153],\n",
       "       [353.10357092]])"
      ]
     },
     "execution_count": 19,
     "metadata": {},
     "output_type": "execute_result"
    }
   ],
   "source": [
    "ssc.inverse_transform(test)[:10]"
   ]
  },
  {
   "cell_type": "code",
   "execution_count": 20,
   "metadata": {},
   "outputs": [],
   "source": [
    "df_test = df[[\"ET_rete (potenza_termica_oraria)\"]].loc[\"2020\":].interpolate()"
   ]
  },
  {
   "cell_type": "code",
   "execution_count": 21,
   "metadata": {},
   "outputs": [],
   "source": [
    "df_test[\"predictions\"] = l2hat_hat"
   ]
  },
  {
   "cell_type": "code",
   "execution_count": 22,
   "metadata": {},
   "outputs": [
    {
     "name": "stdout",
     "output_type": "stream",
     "text": [
      "mse = 79054.11461735195\n",
      "mape = 499.30121187046853\n",
      "r2_score = -10.647934138522473\n"
     ]
    }
   ],
   "source": [
    "evaluate_model(df_test[\"ET_rete (potenza_termica_oraria)\"], df_test[\"predictions\"])"
   ]
  },
  {
   "cell_type": "code",
   "execution_count": 23,
   "metadata": {},
   "outputs": [
    {
     "name": "stdout",
     "output_type": "stream",
     "text": [
      "mse = 79054.11461735195\n",
      "mape = 499.20637395881545\n",
      "r2_score = -10.647934138522473\n"
     ]
    }
   ],
   "source": [
    "evaluate_model(ssc.inverse_transform(test), l2hat_hat)"
   ]
  },
  {
   "cell_type": "code",
   "execution_count": 24,
   "metadata": {},
   "outputs": [
    {
     "name": "stdout",
     "output_type": "stream",
     "text": [
      "mse = 5.558955169449761\n",
      "mape = 821.474124603815\n",
      "r2_score = -10.647933555386459\n"
     ]
    }
   ],
   "source": [
    "evaluate_model(test, l2hat)"
   ]
  },
  {
   "cell_type": "code",
   "execution_count": 25,
   "metadata": {
    "collapsed": true,
    "jupyter": {
     "outputs_hidden": true
    }
   },
   "outputs": [
    {
     "data": {
      "text/html": [
       "<div>\n",
       "<style scoped>\n",
       "    .dataframe tbody tr th:only-of-type {\n",
       "        vertical-align: middle;\n",
       "    }\n",
       "\n",
       "    .dataframe tbody tr th {\n",
       "        vertical-align: top;\n",
       "    }\n",
       "\n",
       "    .dataframe thead th {\n",
       "        text-align: right;\n",
       "    }\n",
       "</style>\n",
       "<table border=\"1\" class=\"dataframe\">\n",
       "  <thead>\n",
       "    <tr style=\"text-align: right;\">\n",
       "      <th></th>\n",
       "      <th>ET_rete (potenza_termica_oraria)</th>\n",
       "      <th>predictions</th>\n",
       "    </tr>\n",
       "  </thead>\n",
       "  <tbody>\n",
       "    <tr>\n",
       "      <th>2020-01-01 00:00:00</th>\n",
       "      <td>212.834622</td>\n",
       "      <td>202.920792</td>\n",
       "    </tr>\n",
       "    <tr>\n",
       "      <th>2020-01-01 01:00:00</th>\n",
       "      <td>214.361252</td>\n",
       "      <td>197.549240</td>\n",
       "    </tr>\n",
       "    <tr>\n",
       "      <th>2020-01-01 02:00:00</th>\n",
       "      <td>212.232600</td>\n",
       "      <td>202.947952</td>\n",
       "    </tr>\n",
       "    <tr>\n",
       "      <th>2020-01-01 03:00:00</th>\n",
       "      <td>209.981640</td>\n",
       "      <td>212.096725</td>\n",
       "    </tr>\n",
       "    <tr>\n",
       "      <th>2020-01-01 04:00:00</th>\n",
       "      <td>234.844625</td>\n",
       "      <td>235.219666</td>\n",
       "    </tr>\n",
       "    <tr>\n",
       "      <th>2020-01-01 05:00:00</th>\n",
       "      <td>286.890118</td>\n",
       "      <td>299.240875</td>\n",
       "    </tr>\n",
       "    <tr>\n",
       "      <th>2020-01-01 06:00:00</th>\n",
       "      <td>400.830208</td>\n",
       "      <td>407.158173</td>\n",
       "    </tr>\n",
       "    <tr>\n",
       "      <th>2020-01-01 07:00:00</th>\n",
       "      <td>392.749156</td>\n",
       "      <td>444.916534</td>\n",
       "    </tr>\n",
       "    <tr>\n",
       "      <th>2020-01-01 08:00:00</th>\n",
       "      <td>378.005352</td>\n",
       "      <td>424.602448</td>\n",
       "    </tr>\n",
       "    <tr>\n",
       "      <th>2020-01-01 09:00:00</th>\n",
       "      <td>353.103571</td>\n",
       "      <td>397.325989</td>\n",
       "    </tr>\n",
       "    <tr>\n",
       "      <th>2020-01-01 10:00:00</th>\n",
       "      <td>339.567156</td>\n",
       "      <td>375.858429</td>\n",
       "    </tr>\n",
       "    <tr>\n",
       "      <th>2020-01-01 11:00:00</th>\n",
       "      <td>333.694808</td>\n",
       "      <td>361.811096</td>\n",
       "    </tr>\n",
       "    <tr>\n",
       "      <th>2020-01-01 12:00:00</th>\n",
       "      <td>322.264867</td>\n",
       "      <td>353.847351</td>\n",
       "    </tr>\n",
       "    <tr>\n",
       "      <th>2020-01-01 13:00:00</th>\n",
       "      <td>317.318129</td>\n",
       "      <td>349.408569</td>\n",
       "    </tr>\n",
       "    <tr>\n",
       "      <th>2020-01-01 14:00:00</th>\n",
       "      <td>319.017554</td>\n",
       "      <td>346.968231</td>\n",
       "    </tr>\n",
       "    <tr>\n",
       "      <th>2020-01-01 15:00:00</th>\n",
       "      <td>319.418634</td>\n",
       "      <td>349.682037</td>\n",
       "    </tr>\n",
       "    <tr>\n",
       "      <th>2020-01-01 16:00:00</th>\n",
       "      <td>322.458146</td>\n",
       "      <td>364.169250</td>\n",
       "    </tr>\n",
       "    <tr>\n",
       "      <th>2020-01-01 17:00:00</th>\n",
       "      <td>343.688876</td>\n",
       "      <td>388.222717</td>\n",
       "    </tr>\n",
       "    <tr>\n",
       "      <th>2020-01-01 18:00:00</th>\n",
       "      <td>346.979537</td>\n",
       "      <td>409.089905</td>\n",
       "    </tr>\n",
       "    <tr>\n",
       "      <th>2020-01-01 19:00:00</th>\n",
       "      <td>344.215381</td>\n",
       "      <td>417.616852</td>\n",
       "    </tr>\n",
       "    <tr>\n",
       "      <th>2020-01-01 20:00:00</th>\n",
       "      <td>341.629575</td>\n",
       "      <td>406.107697</td>\n",
       "    </tr>\n",
       "    <tr>\n",
       "      <th>2020-01-01 21:00:00</th>\n",
       "      <td>322.441145</td>\n",
       "      <td>368.089905</td>\n",
       "    </tr>\n",
       "    <tr>\n",
       "      <th>2020-01-01 22:00:00</th>\n",
       "      <td>257.310196</td>\n",
       "      <td>313.470428</td>\n",
       "    </tr>\n",
       "    <tr>\n",
       "      <th>2020-01-01 23:00:00</th>\n",
       "      <td>216.378178</td>\n",
       "      <td>262.994080</td>\n",
       "    </tr>\n",
       "    <tr>\n",
       "      <th>2020-01-02 00:00:00</th>\n",
       "      <td>153.335281</td>\n",
       "      <td>231.382721</td>\n",
       "    </tr>\n",
       "    <tr>\n",
       "      <th>2020-01-02 01:00:00</th>\n",
       "      <td>153.874025</td>\n",
       "      <td>219.965027</td>\n",
       "    </tr>\n",
       "    <tr>\n",
       "      <th>2020-01-02 02:00:00</th>\n",
       "      <td>151.364772</td>\n",
       "      <td>221.751740</td>\n",
       "    </tr>\n",
       "    <tr>\n",
       "      <th>2020-01-02 03:00:00</th>\n",
       "      <td>155.666917</td>\n",
       "      <td>228.022934</td>\n",
       "    </tr>\n",
       "    <tr>\n",
       "      <th>2020-01-02 04:00:00</th>\n",
       "      <td>167.974946</td>\n",
       "      <td>240.919174</td>\n",
       "    </tr>\n",
       "    <tr>\n",
       "      <th>2020-01-02 05:00:00</th>\n",
       "      <td>222.784505</td>\n",
       "      <td>288.186646</td>\n",
       "    </tr>\n",
       "    <tr>\n",
       "      <th>2020-01-02 06:00:00</th>\n",
       "      <td>331.515149</td>\n",
       "      <td>387.574707</td>\n",
       "    </tr>\n",
       "    <tr>\n",
       "      <th>2020-01-02 07:00:00</th>\n",
       "      <td>312.008425</td>\n",
       "      <td>476.883209</td>\n",
       "    </tr>\n",
       "    <tr>\n",
       "      <th>2020-01-02 08:00:00</th>\n",
       "      <td>301.362503</td>\n",
       "      <td>466.878296</td>\n",
       "    </tr>\n",
       "    <tr>\n",
       "      <th>2020-01-02 09:00:00</th>\n",
       "      <td>291.435459</td>\n",
       "      <td>430.447510</td>\n",
       "    </tr>\n",
       "    <tr>\n",
       "      <th>2020-01-02 10:00:00</th>\n",
       "      <td>292.064504</td>\n",
       "      <td>397.077209</td>\n",
       "    </tr>\n",
       "    <tr>\n",
       "      <th>2020-01-02 11:00:00</th>\n",
       "      <td>296.971490</td>\n",
       "      <td>373.215454</td>\n",
       "    </tr>\n",
       "    <tr>\n",
       "      <th>2020-01-02 12:00:00</th>\n",
       "      <td>294.894529</td>\n",
       "      <td>358.763214</td>\n",
       "    </tr>\n",
       "    <tr>\n",
       "      <th>2020-01-02 13:00:00</th>\n",
       "      <td>276.261082</td>\n",
       "      <td>351.031097</td>\n",
       "    </tr>\n",
       "    <tr>\n",
       "      <th>2020-01-02 14:00:00</th>\n",
       "      <td>274.565493</td>\n",
       "      <td>346.849670</td>\n",
       "    </tr>\n",
       "    <tr>\n",
       "      <th>2020-01-02 15:00:00</th>\n",
       "      <td>267.810156</td>\n",
       "      <td>346.655243</td>\n",
       "    </tr>\n",
       "    <tr>\n",
       "      <th>2020-01-02 16:00:00</th>\n",
       "      <td>271.803938</td>\n",
       "      <td>356.859680</td>\n",
       "    </tr>\n",
       "    <tr>\n",
       "      <th>2020-01-02 17:00:00</th>\n",
       "      <td>283.026216</td>\n",
       "      <td>380.885742</td>\n",
       "    </tr>\n",
       "    <tr>\n",
       "      <th>2020-01-02 18:00:00</th>\n",
       "      <td>283.318067</td>\n",
       "      <td>409.043854</td>\n",
       "    </tr>\n",
       "    <tr>\n",
       "      <th>2020-01-02 19:00:00</th>\n",
       "      <td>279.182494</td>\n",
       "      <td>428.664795</td>\n",
       "    </tr>\n",
       "    <tr>\n",
       "      <th>2020-01-02 20:00:00</th>\n",
       "      <td>273.150186</td>\n",
       "      <td>431.569183</td>\n",
       "    </tr>\n",
       "    <tr>\n",
       "      <th>2020-01-02 21:00:00</th>\n",
       "      <td>252.212852</td>\n",
       "      <td>403.769531</td>\n",
       "    </tr>\n",
       "    <tr>\n",
       "      <th>2020-01-02 22:00:00</th>\n",
       "      <td>218.633036</td>\n",
       "      <td>348.875549</td>\n",
       "    </tr>\n",
       "    <tr>\n",
       "      <th>2020-01-02 23:00:00</th>\n",
       "      <td>172.015871</td>\n",
       "      <td>287.981506</td>\n",
       "    </tr>\n",
       "  </tbody>\n",
       "</table>\n",
       "</div>"
      ],
      "text/plain": [
       "                     ET_rete (potenza_termica_oraria)  predictions\n",
       "2020-01-01 00:00:00                        212.834622   202.920792\n",
       "2020-01-01 01:00:00                        214.361252   197.549240\n",
       "2020-01-01 02:00:00                        212.232600   202.947952\n",
       "2020-01-01 03:00:00                        209.981640   212.096725\n",
       "2020-01-01 04:00:00                        234.844625   235.219666\n",
       "2020-01-01 05:00:00                        286.890118   299.240875\n",
       "2020-01-01 06:00:00                        400.830208   407.158173\n",
       "2020-01-01 07:00:00                        392.749156   444.916534\n",
       "2020-01-01 08:00:00                        378.005352   424.602448\n",
       "2020-01-01 09:00:00                        353.103571   397.325989\n",
       "2020-01-01 10:00:00                        339.567156   375.858429\n",
       "2020-01-01 11:00:00                        333.694808   361.811096\n",
       "2020-01-01 12:00:00                        322.264867   353.847351\n",
       "2020-01-01 13:00:00                        317.318129   349.408569\n",
       "2020-01-01 14:00:00                        319.017554   346.968231\n",
       "2020-01-01 15:00:00                        319.418634   349.682037\n",
       "2020-01-01 16:00:00                        322.458146   364.169250\n",
       "2020-01-01 17:00:00                        343.688876   388.222717\n",
       "2020-01-01 18:00:00                        346.979537   409.089905\n",
       "2020-01-01 19:00:00                        344.215381   417.616852\n",
       "2020-01-01 20:00:00                        341.629575   406.107697\n",
       "2020-01-01 21:00:00                        322.441145   368.089905\n",
       "2020-01-01 22:00:00                        257.310196   313.470428\n",
       "2020-01-01 23:00:00                        216.378178   262.994080\n",
       "2020-01-02 00:00:00                        153.335281   231.382721\n",
       "2020-01-02 01:00:00                        153.874025   219.965027\n",
       "2020-01-02 02:00:00                        151.364772   221.751740\n",
       "2020-01-02 03:00:00                        155.666917   228.022934\n",
       "2020-01-02 04:00:00                        167.974946   240.919174\n",
       "2020-01-02 05:00:00                        222.784505   288.186646\n",
       "2020-01-02 06:00:00                        331.515149   387.574707\n",
       "2020-01-02 07:00:00                        312.008425   476.883209\n",
       "2020-01-02 08:00:00                        301.362503   466.878296\n",
       "2020-01-02 09:00:00                        291.435459   430.447510\n",
       "2020-01-02 10:00:00                        292.064504   397.077209\n",
       "2020-01-02 11:00:00                        296.971490   373.215454\n",
       "2020-01-02 12:00:00                        294.894529   358.763214\n",
       "2020-01-02 13:00:00                        276.261082   351.031097\n",
       "2020-01-02 14:00:00                        274.565493   346.849670\n",
       "2020-01-02 15:00:00                        267.810156   346.655243\n",
       "2020-01-02 16:00:00                        271.803938   356.859680\n",
       "2020-01-02 17:00:00                        283.026216   380.885742\n",
       "2020-01-02 18:00:00                        283.318067   409.043854\n",
       "2020-01-02 19:00:00                        279.182494   428.664795\n",
       "2020-01-02 20:00:00                        273.150186   431.569183\n",
       "2020-01-02 21:00:00                        252.212852   403.769531\n",
       "2020-01-02 22:00:00                        218.633036   348.875549\n",
       "2020-01-02 23:00:00                        172.015871   287.981506"
      ]
     },
     "execution_count": 25,
     "metadata": {},
     "output_type": "execute_result"
    }
   ],
   "source": [
    "df_test.head(48)"
   ]
  },
  {
   "cell_type": "code",
   "execution_count": 31,
   "metadata": {},
   "outputs": [
    {
     "name": "stdout",
     "output_type": "stream",
     "text": [
      "mse = 801.6883508634745\n",
      "mape = 6.764435134869373\n",
      "r2_score = 0.8530148968720643\n"
     ]
    }
   ],
   "source": [
    "evaluate_model(df_test.head(12)[\"ET_rete (potenza_termica_oraria)\"], df_test.head(12)[\"predictions\"])"
   ]
  },
  {
   "cell_type": "code",
   "execution_count": 32,
   "metadata": {},
   "outputs": [
    {
     "name": "stdout",
     "output_type": "stream",
     "text": [
      "mse = 6595.15074431447\n",
      "mape = 26.41279901804237\n",
      "r2_score = -0.5757104477545172\n"
     ]
    }
   ],
   "source": [
    "evaluate_model(df_test.head(48)[\"ET_rete (potenza_termica_oraria)\"], df_test.head(48)[\"predictions\"])"
   ]
  },
  {
   "cell_type": "code",
   "execution_count": 27,
   "metadata": {},
   "outputs": [
    {
     "data": {
      "text/plain": [
       "<AxesSubplot:>"
      ]
     },
     "execution_count": 27,
     "metadata": {},
     "output_type": "execute_result"
    },
    {
     "data": {
      "image/png": "[encoded data removed]",
      "text/plain": [
       "<Figure size 432x288 with 1 Axes>"
      ]
     },
     "metadata": {
      "needs_background": "light"
     },
     "output_type": "display_data"
    }
   ],
   "source": [
    "df_test[\"predictions\"].loc[:\"2020-01\"].plot()"
   ]
  },
  {
   "cell_type": "code",
   "execution_count": 35,
   "metadata": {},
   "outputs": [],
   "source": [
    "from sklearn.metrics import mean_squared_error, r2_score, mean_absolute_error\n",
    "from models import mean_absolute_percentage_error"
   ]
  },
  {
   "cell_type": "code",
   "execution_count": 33,
   "metadata": {},
   "outputs": [],
   "source": [
    "def get_forecast_measures(y_true, y_pred):\n",
    "    '''\n",
    "    Params:\n",
    "    -------\n",
    "    y_true: numpy.array\n",
    "    y_pred: numpy.array\n",
    "    \n",
    "    Returns:\n",
    "    --------\n",
    "    d: dict\n",
    "    \n",
    "    '''\n",
    "    d = {}\n",
    "    for i in range(1, len(y_true)+1):\n",
    "        d[i] = {\"mae\" : mean_absolute_error(y_true[:i], y_pred[:i]),\n",
    "                \"mape\" : mean_absolute_percentage_error(y_true[:i], y_pred[:i])}\n",
    "    return d"
   ]
  },
  {
   "cell_type": "code",
   "execution_count": 36,
   "metadata": {},
   "outputs": [],
   "source": [
    "d = get_forecast_measures(df_test.values[:,0], df_test.values[:,1])"
   ]
  },
  {
   "cell_type": "code",
   "execution_count": 38,
   "metadata": {},
   "outputs": [
    {
     "data": {
      "text/plain": [
       "<AxesSubplot:>"
      ]
     },
     "execution_count": 38,
     "metadata": {},
     "output_type": "execute_result"
    },
    {
     "data": {
      "image/png": "[encoded data removed]",
      "text/plain": [
       "<Figure size 432x288 with 1 Axes>"
      ]
     },
     "metadata": {
      "needs_background": "light"
     },
     "output_type": "display_data"
    }
   ],
   "source": [
    "pd.DataFrame().from_dict(d, orient = 'index').head(72).plot()"
   ]
  }
 ],
 "metadata": {
  "kernelspec": {
   "display_name": "Python 3",
   "language": "python",
   "name": "python3"
  },
  "language_info": {
   "codemirror_mode": {
    "name": "ipython",
    "version": 3
   },
   "file_extension": ".py",
   "mimetype": "text/x-python",
   "name": "python",
   "nbconvert_exporter": "python",
   "pygments_lexer": "ipython3",
   "version": "3.8.5"
  }
 },
 "nbformat": 4,
 "nbformat_minor": 4
}
